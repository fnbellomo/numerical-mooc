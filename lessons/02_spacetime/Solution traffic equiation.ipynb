{
 "metadata": {
  "name": "",
  "signature": "sha256:836e89e75750a3b04a2ae2fdfdfbb1f04ae5fd045a85efddf403fc6a97ccf4d8"
 },
 "nbformat": 3,
 "nbformat_minor": 0,
 "worksheets": [
  {
   "cells": [
    {
     "cell_type": "markdown",
     "metadata": {},
     "source": [
      "#Problema\n",
      "\n",
      "Sabemos que:\n",
      "\n",
      "\\begin{equation}\\\n",
      " \\dfrac{\\partial\\rho}{\\partial t}+ \\dfrac{\\partial F}{\\partial x} = 0 \\end{equation}\n",
      "\n",
      "Donde:\n",
      "\n",
      "$$[L] = km\\qquad Longuitud\\; carreterra$$\n",
      "\n",
      "$$[v] = \\frac{km}{h}\\qquad Velocidad\\; del\\; trafico$$\n",
      "\n",
      "$$[\\rho] = \\frac{cars}{km}\\qquad Densidad\\; del\\; trafico$$  \n",
      "$$[F] = \\frac{cars}{h}\\qquad Flujo\\; de\\; trafico$$\n",
      "\n",
      "$$v = v_{max} \\left(1- \\dfrac{\\rho}{\\rho_{max}}\\right)$$\n",
      "\n",
      "$$F = F(\\rho) = V(\\rho)\\rho = v_{max}\\rho\\left(1-\\dfrac{\\rho}{\\rho_{max}}\\right)$$\n",
      "\n",
      "##Discretizaci\u00f3n\n",
      "\n",
      "Discretizando la equacion (1), obtenemos:\n",
      "\n",
      "\\begin{equation}\\ \\rho_{i}^{n+1} = \\rho_{i}^{n} - \\dfrac{\\Delta t}{\\Delta x} F_{i}^{n} - F_{i-1}^{n}\n",
      "\\end{equation}\n",
      "\n",
      "##Condiciones Iniciales\n",
      "\n",
      "$$v_{max} = 80 \\frac{km}{h} = 400/3 \\frac{m}{min} $$\n",
      "\n",
      "$$L = 11 km = 11000 $$\n",
      "\n",
      "$$\\rho_{max} = 250 \\frac{cars}{km} = 125/30 \\frac{cars}{min}$$\n",
      "\n",
      "$$nx = 51$$\n",
      "\n",
      "$$\\Delta t = 0.001 horas = 0.006min$$\n",
      "\n",
      "Ademas, sabes que la densidad inicial es:\n",
      "\n",
      "    x = numpy.linspace(0,L,nx)\n",
      "    rho0 = numpy.ones(nx)*10\n",
      "    rho0[10:20] = 50\n",
      "\n",
      "Y la condici\u00f3n de contorno es\n",
      "$$\\rho(0,t) = 10 $$"
     ]
    },
    {
     "cell_type": "code",
     "collapsed": false,
     "input": [
      "import numpy as np\n",
      "import matplotlib.pyplot as plt\n",
      "from matplotlib import rcParams\n",
      "rcParams['font.family'] = 'serif'\n",
      "rcParams['font.size'] = 16\n",
      "%matplotlib inline"
     ],
     "language": "python",
     "metadata": {},
     "outputs": [],
     "prompt_number": 1
    },
    {
     "cell_type": "markdown",
     "metadata": {},
     "source": [
      "## Parte A"
     ]
    },
    {
     "cell_type": "code",
     "collapsed": false,
     "input": [
      "###variable declarations\n",
      "L = 11.\n",
      "v_max = 80\n",
      "rho_max = 250\n",
      "\n",
      "nx = 51\n",
      "dx = L/(nx-1)\n",
      "\n",
      "nt = 100\n",
      "sigma = .07\n",
      "dt = 0.001\n",
      "\n",
      "x = np.linspace(0, L, nx)\n",
      "rho0 = np.ones(nx)*10\n",
      "rho0[10:20] = 50\n",
      "\n",
      "plt.plot(x, rho0)\n",
      "plt.title(r'$\\rho_{0}$')\n",
      "plt.ylim(-0.5, 51);"
     ],
     "language": "python",
     "metadata": {},
     "outputs": [
      {
       "metadata": {},
       "output_type": "display_data",
       "png": "[encoded data removed]",
       "text": [
        "<matplotlib.figure.Figure at 0x3aa5490>"
       ]
      }
     ],
     "prompt_number": 38
    },
    {
     "cell_type": "code",
     "collapsed": false,
     "input": [
      "def non_linearconv(t_final, condicion_contorno):\n",
      "    \"\"\"Solve the non-linear convection equation.\n",
      "    \n",
      "    Solves the equation dp/dt + dF/dx = 0 where \n",
      "    \n",
      "    Parameters\n",
      "    ----------\n",
      "    \n",
      "    t_final : integer\n",
      "        final time to solve in minutes\n",
      "    condicion_contorno: float\n",
      "        condicion de contorno\n",
      "        \n",
      "    Returns\n",
      "    -------\n",
      "    \n",
      "    None : none\n",
      "    \"\"\"\n",
      "    #nt = t_final/0.06  #0.06 is dt minutes\n",
      "    nt = t_final/60./dt #Paso el tiempo de min a horas y \n",
      "                        #calculo cuantas iteraciones voy a reaizar\n",
      "    nt = int(nt)\n",
      "    u = rho0.copy()\n",
      "    \n",
      "    for n in range(nt): \n",
      "        un = u.copy() \n",
      "        u[1:] = un[1:] -dt/dx*(un[1:] -un[0:-1]) \n",
      "        u[0] = condicion_contorno\n",
      "        \n",
      "    return u\n",
      "    \n",
      "def vel(rho, v_max, rho_max):\n",
      "    \"\"\"Calcula la velocidad del trafico en cada punto\n",
      "    \n",
      "    Parameters\n",
      "    ----------\n",
      "    \n",
      "    rho : array\n",
      "        densidad actual\n",
      "    rho_max : array\n",
      "        densidad max\n",
      "    v_max : float\n",
      "        velocidad maxima\n",
      "    \"\"\"\n",
      "    \n",
      "    v = v_max*(1 - rho/rho_max)\n",
      "    return v"
     ],
     "language": "python",
     "metadata": {},
     "outputs": [],
     "prompt_number": 39
    },
    {
     "cell_type": "code",
     "collapsed": false,
     "input": [
      "rho = non_linearconv(0, 10)\n",
      "v = vel(rho, v_max, rho_max)\n",
      "\n",
      "print 'vel minima en t=0:', v.min(), 'km/h =', v.min()*10./36., 'm/seg'\n",
      "\n",
      "plt.plot(x, rho, color='#003366', ls='--', lw=3)\n",
      "plt.ylim(9, 51);"
     ],
     "language": "python",
     "metadata": {},
     "outputs": [
      {
       "output_type": "stream",
       "stream": "stdout",
       "text": [
        "vel minima en t=0: 64.0 km/h = 17.7777777778 m/seg\n"
       ]
      },
      {
       "metadata": {},
       "output_type": "display_data",
       "png": "[encoded data removed]",
       "text": [
        "<matplotlib.figure.Figure at 0x3426150>"
       ]
      }
     ],
     "prompt_number": 40
    },
    {
     "cell_type": "code",
     "collapsed": false,
     "input": [
      "rho = non_linearconv(3, 10)\n",
      "v = vel(rho, v_max, rho_max)\n",
      "\n",
      "print 'vel minima en t=3:', v.min(), 'km/h'\n",
      "print 'y la velocidad promedio es:', np.average(v)*10./36., 'm/seg'\n",
      "\n",
      "plt.plot(x, rho, color='#003366', ls='--', lw=3)\n",
      "plt.ylim(-1, 51);"
     ],
     "language": "python",
     "metadata": {},
     "outputs": [
      {
       "output_type": "stream",
       "stream": "stdout",
       "text": [
        "vel minima en t=3: 64.0 km/h\n",
        "y la velocidad promedio es: 20.6361655773 m/seg\n"
       ]
      },
      {
       "metadata": {},
       "output_type": "display_data",
       "png": "[encoded data removed]",
       "text": [
        "<matplotlib.figure.Figure at 0x3327d50>"
       ]
      }
     ],
     "prompt_number": 41
    },
    {
     "cell_type": "code",
     "collapsed": false,
     "input": [
      "rho = non_linearconv(6, 10)\n",
      "v = vel(rho, v_max, rho_max)\n",
      "\n",
      "print 'vel minima en t=6:', v.min(), 'km/h =', v.min()*10./36., 'm/seg'\n",
      "\n",
      "plt.plot(x, rho, color='#003366', ls='--', lw=3)\n",
      "plt.ylim(-1, 51);"
     ],
     "language": "python",
     "metadata": {},
     "outputs": [
      {
       "output_type": "stream",
       "stream": "stdout",
       "text": [
        "vel minima en t=6: 64.0000000006 km/h = 17.7777777779 m/seg\n"
       ]
      },
      {
       "metadata": {},
       "output_type": "display_data",
       "png": "[encoded data removed]",
       "text": [
        "<matplotlib.figure.Figure at 0x343ef10>"
       ]
      }
     ],
     "prompt_number": 42
    },
    {
     "cell_type": "markdown",
     "metadata": {},
     "source": [
      "##Parte B"
     ]
    },
    {
     "cell_type": "code",
     "collapsed": false,
     "input": [
      "###variable declarations\n",
      "L = 11.\n",
      "v_max = 136\n",
      "rho_max = 250\n",
      "\n",
      "nx = 51\n",
      "dx = L/(nx-1)\n",
      "\n",
      "nt = 100\n",
      "sigma = .07\n",
      "dt = 0.001\n",
      "\n",
      "x = np.linspace(0,L,nx)\n",
      "rho0 = np.ones(nx)*20\n",
      "rho0[10:20] = 50\n",
      "\n",
      "plt.plot(x, rho0)\n",
      "plt.title(r'$\\rho_{0}$')\n",
      "plt.ylim(19, 51);"
     ],
     "language": "python",
     "metadata": {},
     "outputs": [
      {
       "metadata": {},
       "output_type": "display_data",
       "png": "[encoded data removed]",
       "text": [
        "<matplotlib.figure.Figure at 0x3425310>"
       ]
      }
     ],
     "prompt_number": 43
    },
    {
     "cell_type": "code",
     "collapsed": false,
     "input": [
      "rho = non_linearconv(0, 20)\n",
      "v = vel(rho, v_max, rho_max)\n",
      "\n",
      "print 'vel minima en t=0:', v.min(), 'km/h =', v.min()*10./36., 'm/seg'\n",
      "\n",
      "plt.plot(x, rho, color='#003366', ls='--', lw=3)\n",
      "plt.ylim(9, 51);"
     ],
     "language": "python",
     "metadata": {},
     "outputs": [
      {
       "output_type": "stream",
       "stream": "stdout",
       "text": [
        "vel minima en t=0: 108.8 km/h = 30.2222222222 m/seg\n"
       ]
      },
      {
       "metadata": {},
       "output_type": "display_data",
       "png": "[encoded data removed]",
       "text": [
        "<matplotlib.figure.Figure at 0x3446990>"
       ]
      }
     ],
     "prompt_number": 44
    },
    {
     "cell_type": "code",
     "collapsed": false,
     "input": [
      "rho = non_linearconv(3, 0)\n",
      "v = vel(rho, v_max, rho_max)\n",
      "\n",
      "print 'vel minima en t=3:', v.min(), 'km/h', v.min()*10./36., 'm/seg'\n",
      "print 'y la velocidad promedio es:', np.average(v)*10./36., 'm/seg'\n",
      "\n",
      "plt.plot(x, rho, color='#003366', ls='--', lw=3)\n",
      "plt.ylim(-1, 51);"
     ],
     "language": "python",
     "metadata": {},
     "outputs": [
      {
       "output_type": "stream",
       "stream": "stdout",
       "text": [
        "vel minima en t=3: 108.8 km/h 30.2222222222 m/seg\n",
        "y la velocidad promedio es: 33.9391245791 m/seg\n"
       ]
      },
      {
       "metadata": {},
       "output_type": "display_data",
       "png": "[encoded data removed]",
       "text": [
        "<matplotlib.figure.Figure at 0x3436d50>"
       ]
      }
     ],
     "prompt_number": 45
    },
    {
     "cell_type": "code",
     "collapsed": false,
     "input": [
      "from IPython.core.display import HTML\n",
      "css_file = '../../styles/numericalmoocstyle.css'\n",
      "HTML(open(css_file, \"r\").read())"
     ],
     "language": "python",
     "metadata": {},
     "outputs": [
      {
       "html": [
        "<link href='http://fonts.googleapis.com/css?family=Alegreya+Sans:100,300,400,500,700,800,900,100italic,300italic,400italic,500italic,700italic,800italic,900italic' rel='stylesheet' type='text/css'>\n",
        "<link href='http://fonts.googleapis.com/css?family=Arvo:400,700,400italic' rel='stylesheet' type='text/css'>\n",
        "<link href='http://fonts.googleapis.com/css?family=PT+Mono' rel='stylesheet' type='text/css'>\n",
        "<link href='http://fonts.googleapis.com/css?family=Shadows+Into+Light' rel='stylesheet' type='text/css'>\n",
        "<link href='http://fonts.googleapis.com/css?family=Nixie+One' rel='stylesheet' type='text/css'>\n",
        "<style>\n",
        "\n",
        "@font-face {\n",
        "    font-family: \"Computer Modern\";\n",
        "    src: url('http://mirrors.ctan.org/fonts/cm-unicode/fonts/otf/cmunss.otf');\n",
        "}\n",
        "\n",
        "#notebook_panel { /* main background */\n",
        "    background: rgb(245,245,245);\n",
        "}\n",
        "\n",
        "div.cell { /* set cell width */\n",
        "    width: 750px;\n",
        "}\n",
        "\n",
        "div #notebook { /* centre the content */\n",
        "    background: #fff; /* white background for content */\n",
        "    width: 1000px;\n",
        "    margin: auto;\n",
        "    padding-left: 0em;\n",
        "}\n",
        "\n",
        "#notebook li { /* More space between bullet points */\n",
        "margin-top:0.8em;\n",
        "}\n",
        "\n",
        "/* draw border around running cells */\n",
        "div.cell.border-box-sizing.code_cell.running { \n",
        "    border: 1px solid #111;\n",
        "}\n",
        "\n",
        "/* Put a solid color box around each cell and its output, visually linking them*/\n",
        "div.cell.code_cell {\n",
        "    background-color: rgb(256,256,256); \n",
        "    border-radius: 0px; \n",
        "    padding: 0.5em;\n",
        "    margin-left:1em;\n",
        "    margin-top: 1em;\n",
        "}\n",
        "\n",
        "div.text_cell_render{\n",
        "    font-family: 'Alegreya Sans' sans-serif;\n",
        "    line-height: 140%;\n",
        "    font-size: 125%;\n",
        "    font-weight: 400;\n",
        "    width:600px;\n",
        "    margin-left:auto;\n",
        "    margin-right:auto;\n",
        "}\n",
        "\n",
        "\n",
        "/* Formatting for header cells */\n",
        ".text_cell_render h1 {\n",
        "    font-family: 'Nixie One', serif;\n",
        "    font-style:regular;\n",
        "    font-weight: 400;    \n",
        "    font-size: 45pt;\n",
        "    line-height: 100%;\n",
        "    color: rgb(0,51,102);\n",
        "    margin-bottom: 0.5em;\n",
        "    margin-top: 0.5em;\n",
        "    display: block;\n",
        "}\t\n",
        ".text_cell_render h2 {\n",
        "    font-family: 'Nixie One', serif;\n",
        "    font-weight: 400;\n",
        "    font-size: 30pt;\n",
        "    line-height: 100%;\n",
        "    color: rgb(0,51,102);\n",
        "    margin-bottom: 0.1em;\n",
        "    margin-top: 0.3em;\n",
        "    display: block;\n",
        "}\t\n",
        "\n",
        ".text_cell_render h3 {\n",
        "    font-family: 'Nixie One', serif;\n",
        "    margin-top:16px;\n",
        "\tfont-size: 22pt;\n",
        "    font-weight: 600;\n",
        "    margin-bottom: 3px;\n",
        "    font-style: regular;\n",
        "    color: rgb(102,102,0);\n",
        "}\n",
        "\n",
        ".text_cell_render h4 {    /*Use this for captions*/\n",
        "    font-family: 'Nixie One', serif;\n",
        "    font-size: 14pt;\n",
        "    text-align: center;\n",
        "    margin-top: 0em;\n",
        "    margin-bottom: 2em;\n",
        "    font-style: regular;\n",
        "}\n",
        "\n",
        ".text_cell_render h5 {  /*Use this for small titles*/\n",
        "    font-family: 'Nixie One', sans-serif;\n",
        "    font-weight: 400;\n",
        "    font-size: 16pt;\n",
        "    color: rgb(163,0,0);\n",
        "    font-style: italic;\n",
        "    margin-bottom: .1em;\n",
        "    margin-top: 0.8em;\n",
        "    display: block;\n",
        "}\n",
        "\n",
        ".text_cell_render h6 { /*use this for copyright note*/\n",
        "    font-family: 'PT Mono', sans-serif;\n",
        "    font-weight: 300;\n",
        "    font-size: 9pt;\n",
        "    line-height: 100%;\n",
        "    color: grey;\n",
        "    margin-bottom: 1px;\n",
        "    margin-top: 1px;\n",
        "}\n",
        "\n",
        ".CodeMirror{\n",
        "        font-family: \"PT Mono\";\n",
        "        font-size: 90%;\n",
        "}\n",
        "\n",
        "</style>\n",
        "<script>\n",
        "    MathJax.Hub.Config({\n",
        "                        TeX: {\n",
        "                           extensions: [\"AMSmath.js\"],\n",
        "                           equationNumbers: { autoNumber: \"AMS\", useLabelIds: true}\n",
        "                           },\n",
        "                tex2jax: {\n",
        "                    inlineMath: [ ['$','$'], [\"\\\\(\",\"\\\\)\"] ],\n",
        "                    displayMath: [ ['$$','$$'], [\"\\\\[\",\"\\\\]\"] ]\n",
        "                },\n",
        "                displayAlign: 'center', // Change this to 'center' to center equations.\n",
        "                \"HTML-CSS\": {\n",
        "                    styles: {'.MathJax_Display': {\"margin\": 4}}\n",
        "                }\n",
        "        });\n",
        "</script>\n"
       ],
       "metadata": {},
       "output_type": "pyout",
       "prompt_number": 1,
       "text": [
        "<IPython.core.display.HTML at 0x268b450>"
       ]
      }
     ],
     "prompt_number": 1
    },
    {
     "cell_type": "code",
     "collapsed": false,
     "input": [],
     "language": "python",
     "metadata": {},
     "outputs": []
    }
   ],
   "metadata": {}
  }
 ]
}